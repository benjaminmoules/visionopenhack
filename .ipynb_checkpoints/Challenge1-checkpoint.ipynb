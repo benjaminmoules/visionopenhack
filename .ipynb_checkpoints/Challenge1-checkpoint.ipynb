{
 "cells": [
  {
   "cell_type": "code",
   "execution_count": null,
   "metadata": {
    "collapsed": true
   },
   "outputs": [],
   "source": [
    "from azure.cognitiveservices.vision.customvision.training import training_api\n",
    "from azure.cognitiveservices.vision.customvision.training.models import ImageUrlCreateEntry\n",
    "\n",
    "# Replace with a valid key\n",
    "training_key = \"83af90baf9064afdb6705cd5692fe0d7\"\n",
    "prediction_key = \"5279409e9a604caaa2acbb7718891318\"\n",
    "\n",
    "trainer = training_api.TrainingApi(training_key)\n",
    "\n",
    "# Create a new project\n",
    "print (\"Creating project...\")\n",
    "project = trainer.create_project(\"My Project\")"
   ]
  },
  {
   "cell_type": "code",
   "execution_count": 2,
   "metadata": {},
   "outputs": [
    {
     "ename": "SyntaxError",
     "evalue": "invalid syntax (<ipython-input-2-1324ddd24f84>, line 6)",
     "output_type": "error",
     "traceback": [
      "\u001b[1;36m  File \u001b[1;32m\"<ipython-input-2-1324ddd24f84>\"\u001b[1;36m, line \u001b[1;32m6\u001b[0m\n\u001b[1;33m    boots_tag = trainer.create_tag(project.id, \"Boots\")boots_tag = trainer.create_tag(project.id, \"Boots\")\u001b[0m\n\u001b[1;37m                                                               ^\u001b[0m\n\u001b[1;31mSyntaxError\u001b[0m\u001b[1;31m:\u001b[0m invalid syntax\n"
     ]
    }
   ],
   "source": [
    "# Make two tags in the new project\n",
    "axes_tag = trainer.create_tag(project.id, \"Axes\")\n",
    "boots_tag = trainer.create_tag(project.id, \"Boots\")\n",
    "carabiners_tag = trainer.create_tag(project.id, \"Carabiners\")\n",
    "crampons_tag = trainer.create_tag(project.id, \"Crampons\")\n",
    "gloves_tag = trainer.create_tag(project.id, \"Gloves\")\n",
    "hardshell_jackets_tag = trainer.create_tag(project.id, \"Hardshell Jackets\")\n",
    "harnesses_tag = trainer.create_tag(project.id, \"Harnesses\")\n",
    "helmets_tag = trainer.create_tag(project.id, \"Helmets\")\n",
    "insulated_jackets_tag = trainer.create_tag(project.id, \"Insulated Jackets\")\n",
    "pulleys_tag = trainer.create_tag(project.id, \"Pulleys\")\n",
    "rope_tag = trainer.create_tag(project.id, \"Rope\")\n",
    "tents_tag = trainer.create_tag(project.id, \"Tents\")"
   ]
  },
  {
   "cell_type": "code",
   "execution_count": null,
   "metadata": {
    "collapsed": true
   },
   "outputs": [],
   "source": [
    "base_image_url = \"https://raw.githubusercontent.com/Microsoft/Cognitive-CustomVision-Windows/master/Samples/\"\n",
    "\n",
    "print (\"Adding images...\")\n",
    "for image_num in range(1,10):\n",
    "    image_url = base_image_url + \"Images/Hemlock/hemlock_{}.jpg\".format(image_num)\n",
    "    trainer.create_images_from_urls(project.id, [ ImageUrlCreateEntry(url=image_url, tag_ids=[ hemlock_tag.id ] ) ])\n",
    "\n",
    "for image_num in range(1,10):\n",
    "    image_url = base_image_url + \"Images/Japanese Cherry/japanese_cherry_{}.jpg\".format(image_num)\n",
    "    trainer.create_images_from_urls(project.id, [ ImageUrlCreateEntry(url=image_url, tag_ids=[ cherry_tag.id ] ) ])"
   ]
  }
 ],
 "metadata": {
  "kernelspec": {
   "display_name": "Python 3",
   "language": "python",
   "name": "python3"
  },
  "language_info": {
   "codemirror_mode": {
    "name": "ipython",
    "version": 3
   },
   "file_extension": ".py",
   "mimetype": "text/x-python",
   "name": "python",
   "nbconvert_exporter": "python",
   "pygments_lexer": "ipython3",
   "version": "3.6.3"
  }
 },
 "nbformat": 4,
 "nbformat_minor": 2
}
